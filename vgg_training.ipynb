{
  "cells": [
    {
      "cell_type": "code",
      "execution_count": 12,
      "metadata": {
        "id": "e0O0XhvsFV8Y"
      },
      "outputs": [],
      "source": [
        "import torch.nn as nn\n",
        "import torch\n",
        "import torchvision.datasets as datasets\n",
        "import numpy as np\n",
        "import matplotlib.pyplot as plt\n",
        "import random\n",
        "from torch.utils.data import DataLoader\n",
        "from sklearn.model_selection import train_test_split\n",
        "\n",
        "%matplotlib inline"
      ]
    },
    {
      "cell_type": "code",
      "execution_count": 13,
      "metadata": {
        "id": "_7wDMZh6EkSW"
      },
      "outputs": [],
      "source": [
        "class VGG11(nn.Module):\n",
        "    def __init__(self, in_channels=3, num_classes=10):\n",
        "        super(VGG11,self).__init__()\n",
        "        self.in_channels = in_channels\n",
        "        self.num_classes = num_classes\n",
        "\n",
        "        self.conv1 = nn.Conv2d(self.in_channels, 64, kernel_size=3, padding=1)\n",
        "        self.relu1 = nn.ReLU()\n",
        "        self.pool1 = nn.MaxPool2d(kernel_size=2, stride=2)\n",
        "        self.conv2 = nn.Conv2d(64, 128, kernel_size=3, padding=1)\n",
        "        self.relu2 = nn.ReLU()\n",
        "        self.pool2 = nn.MaxPool2d(kernel_size=2, stride=2)\n",
        "        self.conv3 = nn.Conv2d(128, 256, kernel_size=3, padding=\"same\")\n",
        "        self.relu3 = nn.ReLU()\n",
        "        self.conv4 = nn.Conv2d(256, 256, kernel_size=3, padding=\"same\")\n",
        "        self.relu4 = nn.ReLU()\n",
        "        self.pool3 = nn.MaxPool2d(kernel_size=2, stride=2)\n",
        "        self.conv5 = nn.Conv2d(256, 512, kernel_size=3, padding=\"same\")\n",
        "        self.relu5 = nn.ReLU()\n",
        "        self.conv6 = nn.Conv2d(512, 512, kernel_size=3, padding=\"same\")\n",
        "        self.relu6 = nn.ReLU()\n",
        "        self.pool4 = nn.MaxPool2d(kernel_size=2, stride=2)\n",
        "        self.conv7 = nn.Conv2d(512, 512, kernel_size=3, padding=\"same\")\n",
        "        self.relu7 = nn.ReLU()\n",
        "        self.conv8 = nn.Conv2d(512, 512, kernel_size=3, padding=\"same\")\n",
        "        self.relu8 = nn.ReLU()\n",
        "        self.pool5 = nn.MaxPool2d(kernel_size=2, stride=2)\n",
        "\n",
        "        self.fcn = nn.Sequential(\n",
        "            nn.Linear(in_features=512*1*1, out_features=4096),\n",
        "            nn.ReLU(),\n",
        "            nn.Dropout2d(0.5),\n",
        "            nn.Linear(in_features=4096, out_features=4096),\n",
        "            nn.ReLU(),\n",
        "            nn.Dropout2d(0.5),\n",
        "            nn.Linear(in_features=4096, out_features=self.num_classes)\n",
        "        )\n",
        "\n",
        "    def forward(self, x):\n",
        "      # x = self.conv_layers(x)\n",
        "      # print(\"initial: \", x.shape)\n",
        "      x = self.conv1(x)\n",
        "      x = self.relu1(x)\n",
        "      # print(\"after conv1: \", x.shape)\n",
        "      x = self.pool1(x)\n",
        "      # print(\"after pool1: \", x.shape)\n",
        "      x = self.conv2(x)\n",
        "      x = self.relu2(x)\n",
        "      # print(\"after conv2: \", x.shape)\n",
        "      x = self.pool2(x)\n",
        "      # print(\"after pool2: \", x.shape)\n",
        "      x = self.conv3(x)\n",
        "      x = self.relu3(x)\n",
        "      # print(\"after conv3: \", x.shape)\n",
        "      x = self.conv4(x)\n",
        "      x = self.relu4(x)\n",
        "      # print(\"after conv4: \", x.shape)\n",
        "      x = self.pool3(x)\n",
        "      # print(\"after pool3: \", x.shape)\n",
        "      x = self.conv5(x)\n",
        "      x = self.relu5(x)\n",
        "      # print(\"after conv5: \", x.shape)\n",
        "      x = self.conv6(x)\n",
        "      x = self.relu6(x)\n",
        "      # print(\"after conv6: \", x.shape)\n",
        "      x = self.pool4(x)\n",
        "      # print(\"after pool4: \", x.shape)\n",
        "      x = self.conv7(x)\n",
        "      x = self.relu7(x)\n",
        "      # print(\"after conv7: \", x.shape)\n",
        "      x = self.conv8(x)\n",
        "      x = self.relu8(x)\n",
        "      # print(\"after conv8: \", x.shape)\n",
        "      x = self.pool5(x)\n",
        "      # print(\"after pool5: \", x.shape)\n",
        "\n",
        "      x = x.view(x.size(0), -1)\n",
        "      x = self.fcn(x)\n",
        "      return x"
      ]
    },
    {
      "cell_type": "code",
      "execution_count": 14,
      "metadata": {
        "colab": {
          "base_uri": "https://localhost:8080/"
        },
        "id": "mEF54wKwFl2e",
        "outputId": "7d7d7c45-fcb1-4de7-aa9d-472b3de3c46b"
      },
      "outputs": [
        {
          "output_type": "stream",
          "name": "stdout",
          "text": [
            "Files already downloaded and verified\n",
            "Files already downloaded and verified\n"
          ]
        }
      ],
      "source": [
        "cifar_trainset = datasets.CIFAR10(root='./data2', train=True, download=True, transform=None)\n",
        "cifar_testset = datasets.CIFAR10(root='./data2', train=False, download=True, transform=None)"
      ]
    },
    {
      "cell_type": "code",
      "execution_count": 15,
      "metadata": {
        "id": "KrORbo74FfVk"
      },
      "outputs": [],
      "source": [
        "classes_0_to_7_idx = {}\n",
        "\n",
        "for i in range(8):\n",
        "  classes_0_to_7_idx[i] = []\n",
        "\n",
        "for idx in range(len(cifar_trainset.targets)):\n",
        "  target = cifar_trainset.targets[idx]\n",
        "  if target < 8:\n",
        "    classes_0_to_7_idx[target].append(idx)\n",
        "\n",
        "\n",
        "classes_8_to_9_idx = {}\n",
        "\n",
        "for i in range(8,10):\n",
        "  classes_8_to_9_idx[i] = []\n",
        "\n",
        "for idx in range(len(cifar_trainset.targets)):\n",
        "  target = cifar_trainset.targets[idx]\n",
        "  if target >= 8:\n",
        "    classes_8_to_9_idx[target].append(idx)"
      ]
    },
    {
      "cell_type": "code",
      "execution_count": 16,
      "metadata": {
        "id": "6XISVRYuFhza"
      },
      "outputs": [],
      "source": [
        "client1_data_temp = []\n",
        "for key in range(8):\n",
        "  client1_data_temp.append(cifar_trainset.data[classes_0_to_7_idx[key]])\n",
        "\n",
        "client1_labels = []\n",
        "client1_data = []\n",
        "for classes in range(8):\n",
        "  for img_idx in range(5000):\n",
        "      client1_labels.append(classes)\n",
        "      client1_data.append(np.swapaxes(np.array(client1_data_temp[classes][img_idx]),0,2))\n",
        "\n",
        "client2_data_temp = []\n",
        "for key in range(8,10):\n",
        "  client2_data_temp.append(cifar_trainset.data[classes_8_to_9_idx[key]])\n",
        "\n",
        "client2_labels = []\n",
        "client2_data = []\n",
        "for classes in range(2):\n",
        "  for img_idx in range(5000):\n",
        "      client2_labels.append(classes + 8)\n",
        "      client2_data.append(np.swapaxes(np.array(client2_data_temp[classes][img_idx]),0,2))\n"
      ]
    },
    {
      "cell_type": "code",
      "source": [
        "client1_temp = list(zip(client1_data, client1_labels))\n",
        "client2_temp = list(zip(client2_data, client2_labels))\n",
        "\n",
        "random.shuffle(client1_temp)\n",
        "random.shuffle(client2_temp)\n",
        "\n",
        "client1_data, client1_labels = zip(*client1_temp)\n",
        "client2_data, client2_labels = zip(*client2_temp)"
      ],
      "metadata": {
        "id": "B3_BPtglTy2l"
      },
      "execution_count": 17,
      "outputs": []
    },
    {
      "cell_type": "code",
      "execution_count": 18,
      "metadata": {
        "id": "NrTcQ6_bFyIX"
      },
      "outputs": [],
      "source": [
        "client1_X_train, client1_X_val, client1_y_train, client1_y_val = train_test_split(client1_data, client1_labels, test_size = 0.3)\n",
        "client2_X_train, client2_X_val, client2_y_train, client2_y_val = train_test_split(client2_data, client2_labels, test_size = 0.3)"
      ]
    },
    {
      "cell_type": "code",
      "source": [
        "img = np.swapaxes(client1_X_train[3210],0,2)\n",
        "label = client1_y_train[3210]\n",
        "\n",
        "plt.imshow(img)\n",
        "plt.show()\n",
        "print(label)"
      ],
      "metadata": {
        "colab": {
          "base_uri": "https://localhost:8080/",
          "height": 283
        },
        "id": "AzxL3b5Vip_X",
        "outputId": "76a8ada0-a559-441f-c3a1-178c1940ab13"
      },
      "execution_count": 28,
      "outputs": [
        {
          "output_type": "display_data",
          "data": {
            "text/plain": [
              "<Figure size 432x288 with 1 Axes>"
            ],
            "image/png": "[encoded data removed]"
          },
          "metadata": {
            "needs_background": "light"
          }
        },
        {
          "output_type": "stream",
          "name": "stdout",
          "text": [
            "7\n"
          ]
        }
      ]
    },
    {
      "cell_type": "code",
      "source": [
        "x1 = np.array(client1_y_train)\n",
        "x2 = np.array(client1_y_val)\n",
        "\n",
        "u1,c1 = np.unique(x1, return_counts=True)\n",
        "u2,c2 = np.unique(x2, return_counts=True)"
      ],
      "metadata": {
        "id": "j36j4sqjfhx1"
      },
      "execution_count": 19,
      "outputs": []
    },
    {
      "cell_type": "code",
      "source": [
        "u1, c1"
      ],
      "metadata": {
        "colab": {
          "base_uri": "https://localhost:8080/"
        },
        "id": "vq1YPzAjf69o",
        "outputId": "6c6d3e92-68bf-4184-c526-df5030671cef"
      },
      "execution_count": 20,
      "outputs": [
        {
          "output_type": "execute_result",
          "data": {
            "text/plain": [
              "(array([0, 1, 2, 3, 4, 5, 6, 7]),\n",
              " array([3512, 3540, 3522, 3523, 3458, 3434, 3554, 3457]))"
            ]
          },
          "metadata": {},
          "execution_count": 20
        }
      ]
    },
    {
      "cell_type": "code",
      "source": [
        "u2,c2"
      ],
      "metadata": {
        "colab": {
          "base_uri": "https://localhost:8080/"
        },
        "id": "FVyWPO86f-t8",
        "outputId": "ae78cb37-6a30-4717-f2cf-ce9be13a4edc"
      },
      "execution_count": 21,
      "outputs": [
        {
          "output_type": "execute_result",
          "data": {
            "text/plain": [
              "(array([0, 1, 2, 3, 4, 5, 6, 7]),\n",
              " array([1488, 1460, 1478, 1477, 1542, 1566, 1446, 1543]))"
            ]
          },
          "metadata": {},
          "execution_count": 21
        }
      ]
    },
    {
      "cell_type": "code",
      "execution_count": 8,
      "metadata": {
        "id": "_IHoPBZJH73G"
      },
      "outputs": [],
      "source": [
        "client1_trainDL = DataLoader(list(zip(client1_X_train, client1_y_train)), batch_size = 20, shuffle = True)\n",
        "client1_valDL = DataLoader(list(zip(client1_X_val, client1_y_val)), batch_size = 100)\n",
        "\n",
        "client2_trainDL = DataLoader(list(zip(client2_X_train, client2_y_train)), batch_size = 20, shuffle = True)\n",
        "client2_valDL = DataLoader(list(zip(client2_X_val, client2_y_val)), batch_size = 100)"
      ]
    },
    {
      "cell_type": "code",
      "execution_count": 9,
      "metadata": {
        "id": "BAFVMESpIoYD"
      },
      "outputs": [],
      "source": [
        "client1_model = VGG11(num_classes=8).to('cuda')\n",
        "client2_model = VGG11(num_classes=2).to('cuda')\n",
        "\n",
        "client1_optim = torch.optim.Adam(client1_model.parameters(), lr = 0.0001)\n",
        "client2_optim = torch.optim.Adam(client2_model.parameters(), lr = 0.0001)\n",
        "\n",
        "loss_fn = nn.CrossEntropyLoss()"
      ]
    },
    {
      "cell_type": "code",
      "execution_count": 10,
      "metadata": {
        "colab": {
          "base_uri": "https://localhost:8080/"
        },
        "id": "hKhqayjRKulX",
        "outputId": "04c63b04-872e-4efc-84df-9899b5e77954"
      },
      "outputs": [
        {
          "output_type": "stream",
          "name": "stderr",
          "text": [
            "/usr/local/lib/python3.7/dist-packages/torch/nn/functional.py:1320: UserWarning: dropout2d: Received a 2-D input to dropout2d, which is deprecated and will result in an error in a future release. To retain the behavior and silence this warning, please use dropout instead. Note that dropout2d exists to provide channel-wise dropout on inputs with 2 spatial dimensions, a channel dimension, and an optional batch dimension (i.e. 3D or 4D inputs).\n",
            "  warnings.warn(warn_msg)\n"
          ]
        },
        {
          "output_type": "stream",
          "name": "stdout",
          "text": [
            "\n",
            "-----------------------------------EPOCH  1 -----------------------------------\n",
            "Train loss:  2.050788 \t\t\tTrain accuracy:  0.1383928571428572\n",
            "Validation loss:  1.9700108 \t\tValidation accuracy:  0.2045833333333334\n",
            "\n",
            "-----------------------------------EPOCH  2 -----------------------------------\n",
            "Train loss:  1.9883006 \t\t\tTrain accuracy:  0.17242857142857088\n",
            "Validation loss:  1.808704 \t\tValidation accuracy:  0.3788333333333331\n",
            "\n",
            "-----------------------------------EPOCH  3 -----------------------------------\n",
            "Train loss:  1.9471018 \t\t\tTrain accuracy:  0.196285714285714\n",
            "Validation loss:  1.7480192 \t\tValidation accuracy:  0.4416666666666666\n",
            "\n",
            "-----------------------------------EPOCH  4 -----------------------------------\n",
            "Train loss:  1.9110639 \t\t\tTrain accuracy:  0.20982142857142824\n",
            "Validation loss:  1.6458061 \t\tValidation accuracy:  0.4969166666666666\n",
            "\n",
            "-----------------------------------EPOCH  5 -----------------------------------\n",
            "Train loss:  1.8766012 \t\t\tTrain accuracy:  0.22574999999999976\n",
            "Validation loss:  1.5855317 \t\tValidation accuracy:  0.5355833333333333\n",
            "\n",
            "-----------------------------------EPOCH  6 -----------------------------------\n",
            "Train loss:  1.8620324 \t\t\tTrain accuracy:  0.2332857142857141\n",
            "Validation loss:  1.5435345 \t\tValidation accuracy:  0.5657500000000001\n",
            "\n",
            "-----------------------------------EPOCH  7 -----------------------------------\n",
            "Train loss:  1.8378913 \t\t\tTrain accuracy:  0.2403928571428564\n",
            "Validation loss:  1.4608837 \t\tValidation accuracy:  0.5882500000000002\n",
            "\n",
            "-----------------------------------EPOCH  8 -----------------------------------\n",
            "Train loss:  1.8141593 \t\t\tTrain accuracy:  0.25192857142857145\n",
            "Validation loss:  1.4520426 \t\tValidation accuracy:  0.5965833333333336\n",
            "\n",
            "-----------------------------------EPOCH  9 -----------------------------------\n",
            "Train loss:  1.8054762 \t\t\tTrain accuracy:  0.25664285714285745\n",
            "Validation loss:  1.5146871 \t\tValidation accuracy:  0.5728333333333333\n",
            "\n",
            "-----------------------------------EPOCH  10 -----------------------------------\n",
            "Train loss:  1.7865067 \t\t\tTrain accuracy:  0.26303571428571415\n",
            "Validation loss:  1.3828036 \t\tValidation accuracy:  0.6089166666666669\n",
            "\n",
            "-----------------------------------EPOCH  11 -----------------------------------\n",
            "Train loss:  1.7762245 \t\t\tTrain accuracy:  0.2664642857142854\n",
            "Validation loss:  1.4589081 \t\tValidation accuracy:  0.6331666666666667\n",
            "\n",
            "-----------------------------------EPOCH  12 -----------------------------------\n",
            "Train loss:  1.7580003 \t\t\tTrain accuracy:  0.27574999999999983\n",
            "Validation loss:  1.366006 \t\tValidation accuracy:  0.6559166666666666\n",
            "\n",
            "-----------------------------------EPOCH  13 -----------------------------------\n",
            "Train loss:  1.758984 \t\t\tTrain accuracy:  0.274357142857143\n",
            "Validation loss:  1.2360625 \t\tValidation accuracy:  0.6645833333333331\n",
            "\n",
            "-----------------------------------EPOCH  14 -----------------------------------\n",
            "Train loss:  1.7430642 \t\t\tTrain accuracy:  0.28225000000000017\n",
            "Validation loss:  1.204933 \t\tValidation accuracy:  0.6835833333333332\n",
            "\n",
            "-----------------------------------EPOCH  15 -----------------------------------\n",
            "Train loss:  1.7290725 \t\t\tTrain accuracy:  0.2842142857142858\n",
            "Validation loss:  1.2731701 \t\tValidation accuracy:  0.6462499999999999\n",
            "\n",
            "-----------------------------------EPOCH  16 -----------------------------------\n",
            "Train loss:  1.7255 \t\t\tTrain accuracy:  0.2860714285714289\n",
            "Validation loss:  1.2338501 \t\tValidation accuracy:  0.6637500000000005\n",
            "\n",
            "-----------------------------------EPOCH  17 -----------------------------------\n",
            "Train loss:  1.7150085 \t\t\tTrain accuracy:  0.29025000000000006\n",
            "Validation loss:  1.1959857 \t\tValidation accuracy:  0.6783333333333333\n",
            "\n",
            "-----------------------------------EPOCH  18 -----------------------------------\n",
            "Train loss:  1.7029731 \t\t\tTrain accuracy:  0.29485714285714376\n",
            "Validation loss:  1.2031014 \t\tValidation accuracy:  0.6662500000000005\n",
            "\n",
            "-----------------------------------EPOCH  19 -----------------------------------\n",
            "Train loss:  1.6930676 \t\t\tTrain accuracy:  0.30100000000000016\n",
            "Validation loss:  1.1962936 \t\tValidation accuracy:  0.6865\n",
            "\n",
            "-----------------------------------EPOCH  20 -----------------------------------\n",
            "Train loss:  1.6843007 \t\t\tTrain accuracy:  0.30157142857142855\n",
            "Validation loss:  1.1486427 \t\tValidation accuracy:  0.6954999999999998\n",
            "\n",
            "-----------------------------------EPOCH  21 -----------------------------------\n",
            "Train loss:  1.6832347 \t\t\tTrain accuracy:  0.3053571428571424\n",
            "Validation loss:  1.1084142 \t\tValidation accuracy:  0.6914166666666666\n",
            "\n",
            "-----------------------------------EPOCH  22 -----------------------------------\n",
            "Train loss:  1.6780776 \t\t\tTrain accuracy:  0.3034642857142853\n",
            "Validation loss:  1.0898618 \t\tValidation accuracy:  0.6930833333333336\n",
            "\n",
            "-----------------------------------EPOCH  23 -----------------------------------\n",
            "Train loss:  1.663488 \t\t\tTrain accuracy:  0.3100000000000002\n",
            "Validation loss:  1.1321801 \t\tValidation accuracy:  0.6899166666666666\n",
            "\n",
            "-----------------------------------EPOCH  24 -----------------------------------\n",
            "Train loss:  1.6659478 \t\t\tTrain accuracy:  0.30850000000000033\n",
            "Validation loss:  1.1279912 \t\tValidation accuracy:  0.6812499999999999\n",
            "\n",
            "-----------------------------------EPOCH  25 -----------------------------------\n",
            "Train loss:  1.6697403 \t\t\tTrain accuracy:  0.3084642857142853\n",
            "Validation loss:  1.1285756 \t\tValidation accuracy:  0.6954999999999998\n",
            "\n",
            "-----------------------------------EPOCH  26 -----------------------------------\n",
            "Train loss:  1.6520935 \t\t\tTrain accuracy:  0.3136785714285714\n",
            "Validation loss:  1.0707791 \t\tValidation accuracy:  0.6916666666666668\n",
            "\n",
            "-----------------------------------EPOCH  27 -----------------------------------\n",
            "Train loss:  1.639044 \t\t\tTrain accuracy:  0.31775\n",
            "Validation loss:  1.1042279 \t\tValidation accuracy:  0.6910833333333334\n",
            "\n",
            "-----------------------------------EPOCH  28 -----------------------------------\n",
            "Train loss:  1.6475722 \t\t\tTrain accuracy:  0.3168214285714292\n",
            "Validation loss:  1.0304043 \t\tValidation accuracy:  0.6896666666666664\n",
            "\n",
            "-----------------------------------EPOCH  29 -----------------------------------\n",
            "Train loss:  1.6344062 \t\t\tTrain accuracy:  0.3177142857142857\n",
            "Validation loss:  1.0096319 \t\tValidation accuracy:  0.7056666666666664\n",
            "\n",
            "-----------------------------------EPOCH  30 -----------------------------------\n",
            "Train loss:  1.6352211 \t\t\tTrain accuracy:  0.32114285714285734\n",
            "Validation loss:  1.0568303 \t\tValidation accuracy:  0.7074166666666667\n"
          ]
        }
      ],
      "source": [
        "EPOCHS = 30\n",
        "\n",
        "client1_step_size_train = len(client1_trainDL)\n",
        "client1_step_size_val = len(client1_valDL)\n",
        "\n",
        "history_client1 = {'train loss': [], 'val loss': [], 'train acc': [], 'val acc': [] }\n",
        "\n",
        "for epoch in range(EPOCHS):\n",
        "\n",
        "    train_loss = 0\n",
        "    val_loss = 0\n",
        "    train_accuracy = 0\n",
        "    val_accuracy = 0\n",
        "\n",
        "    client1_model.train()\n",
        "\n",
        "    for (x,y) in client1_trainDL:\n",
        "\n",
        "        pred = client1_model(x.float().to('cuda'))\n",
        "        # print(pred, y)\n",
        "        loss = loss_fn(pred, y.to('cuda'))\n",
        "\n",
        "        client1_optim.zero_grad()\n",
        "        loss.backward()\n",
        "        client1_optim.step()\n",
        "\n",
        "        train_loss += loss\n",
        "        # print(\"***Accuracy*** : \",(pred.argmax(1) == y.to('cuda')).type(torch.float).sum().item())\n",
        "        train_accuracy += (pred.argmax(1) == y.to('cuda')).type(torch.float).sum().item()/client1_trainDL.batch_size\n",
        "\n",
        "    epoch_train_loss = train_loss/client1_step_size_train\n",
        "    epoch_train_accuracy = train_accuracy/client1_step_size_train\n",
        "    history_client1['train acc'].append(epoch_train_accuracy)\n",
        "    history_client1['train loss'].append(epoch_train_loss)\n",
        "\n",
        "    with torch.no_grad():\n",
        "        client1_model.eval()\n",
        "        for (x,y) in client1_valDL:\n",
        "            pred = client1_model(x.float().to('cuda'))\n",
        "            val_loss += loss_fn(pred, y.to('cuda'))\n",
        "            val_accuracy += (pred.argmax(1) == y.to('cuda')).type(torch.float).sum().item()/client1_valDL.batch_size\n",
        "\n",
        "        epoch_val_loss = val_loss/client1_step_size_val\n",
        "        epoch_val_accuracy = val_accuracy/client1_step_size_val\n",
        "        history_client1['val loss'].append(epoch_val_loss)\n",
        "        history_client1['val acc'].append(epoch_val_accuracy)\n",
        "\n",
        "\n",
        "        print(\"\\n-----------------------------------EPOCH \",epoch + 1,\"-----------------------------------\")\n",
        "        print(\"Train loss: \",epoch_train_loss.detach().cpu().numpy(),\"\\t\\t\\tTrain accuracy: \", epoch_train_accuracy)\n",
        "        print(\"Validation loss: \", epoch_val_loss.detach().cpu().numpy(),\"\\t\\tValidation accuracy: \", epoch_val_accuracy)      \n"
      ]
    },
    {
      "cell_type": "code",
      "execution_count": 11,
      "metadata": {
        "id": "5E9DcNGUomlx",
        "colab": {
          "base_uri": "https://localhost:8080/",
          "height": 352
        },
        "outputId": "d47b5107-cef8-4128-931c-8f3cab156b23"
      },
      "outputs": [
        {
          "output_type": "display_data",
          "data": {
            "text/plain": [
              "<Figure size 432x288 with 2 Axes>"
            ],
            "image/png": "[encoded data removed]"
          },
          "metadata": {
            "needs_background": "light"
          }
        }
      ],
      "source": [
        "plt.subplot(1,2,1)\n",
        "plt.plot(range(1,len(history_client1['val loss'])+1),[x.detach().cpu().numpy() for x in history_client1[\"val loss\"]])\n",
        "plt.plot(range(1,len(history_client1['train loss'])+1), [x.detach().cpu().numpy() for x in history_client1[\"train loss\"]])\n",
        "plt.title(\"train and test error vs number of epochs\")\n",
        "plt.legend([\"validatin error\", \"train error\"], loc =\"best\")\n",
        "\n",
        "plt.subplot(1,2,2)\n",
        "plt.plot(range(1,len(history_client1['val acc'])+1), history_client1[\"val acc\"])\n",
        "plt.plot(range(1,len(history_client1['train acc'])+1), history_client1[\"train acc\"])\n",
        "plt.title(\"train and test accuracy vs number of epochs\")\n",
        "plt.legend([\"validation accuracy\", \"train accuracy\"], loc =\"best\")\n",
        "\n",
        "plt.subplots_adjust(left=1,\n",
        "                    bottom=2, \n",
        "                    right=3, \n",
        "                    top=3, \n",
        "                    wspace=0.5, \n",
        "                    hspace=0.1)\n",
        "\n",
        "plt.show()"
      ]
    },
    {
      "cell_type": "code",
      "execution_count": 11,
      "metadata": {
        "id": "73VB4moLSAFH"
      },
      "outputs": [],
      "source": [
        ""
      ]
    }
  ],
  "metadata": {
    "accelerator": "GPU",
    "colab": {
      "collapsed_sections": [],
      "name": "vgg_training.ipynb",
      "provenance": []
    },
    "kernelspec": {
      "display_name": "Python 3",
      "name": "python3"
    },
    "language_info": {
      "name": "python"
    }
  },
  "nbformat": 4,
  "nbformat_minor": 0
}